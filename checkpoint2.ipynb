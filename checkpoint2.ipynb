{
 "cells": [
  {
   "cell_type": "code",
   "execution_count": 6,
   "id": "86336227",
   "metadata": {},
   "outputs": [
    {
     "name": "stdout",
     "output_type": "stream",
     "text": [
      "2002\n",
      "2009\n",
      "2023\n",
      "2030\n",
      "2037\n",
      "2044\n",
      "2058\n",
      "2065\n",
      "2072\n",
      "2079\n",
      "2093\n",
      "2100\n",
      "2107\n",
      "2114\n",
      "2128\n",
      "2135\n",
      "2142\n",
      "2149\n",
      "2163\n",
      "2170\n",
      "2177\n",
      "2184\n",
      "2198\n",
      "2205\n",
      "2212\n",
      "2219\n",
      "2233\n",
      "2240\n",
      "2247\n",
      "2254\n",
      "2268\n",
      "2275\n",
      "2282\n",
      "2289\n",
      "2303\n",
      "2310\n",
      "2317\n",
      "2324\n",
      "2338\n",
      "2345\n",
      "2352\n",
      "2359\n",
      "2373\n",
      "2380\n",
      "2387\n",
      "2394\n",
      "2408\n",
      "2415\n",
      "2422\n",
      "2429\n",
      "2443\n",
      "2450\n",
      "2457\n",
      "2464\n",
      "2478\n",
      "2485\n",
      "2492\n",
      "2499\n",
      "2513\n",
      "2520\n",
      "2527\n",
      "2534\n",
      "2548\n",
      "2555\n",
      "2562\n",
      "2569\n",
      "2583\n",
      "2590\n",
      "2597\n",
      "2604\n",
      "2618\n",
      "2625\n",
      "2632\n",
      "2639\n",
      "2653\n",
      "2660\n",
      "2667\n",
      "2674\n",
      "2688\n",
      "2695\n",
      "2702\n",
      "2709\n",
      "2723\n",
      "2730\n",
      "2737\n",
      "2744\n",
      "2758\n",
      "2765\n",
      "2772\n",
      "2779\n",
      "2793\n",
      "2800\n",
      "2807\n",
      "2814\n",
      "2828\n",
      "2835\n",
      "2842\n",
      "2849\n",
      "2863\n",
      "2870\n",
      "2877\n",
      "2884\n",
      "2898\n",
      "2905\n",
      "2912\n",
      "2919\n",
      "2933\n",
      "2940\n",
      "2947\n",
      "2954\n",
      "2968\n",
      "2975\n",
      "2982\n",
      "2989\n"
     ]
    }
   ],
   "source": [
    "for i in range(2000, 3001):\n",
    "    if i %7==0 and i%5!=1:\n",
    "        print(i)    \n",
    "    \n"
   ]
  },
  {
   "cell_type": "code",
   "execution_count": 3,
   "id": "989881a0",
   "metadata": {},
   "outputs": [
    {
     "name": "stdout",
     "output_type": "stream",
     "text": [
      "3628800\n"
     ]
    }
   ],
   "source": [
    "def fact(n):\n",
    "    if n<1:\n",
    "        return 1\n",
    "    else:\n",
    "        return n*fact(n-1)\n",
    "    \n",
    "print(fact(10))\n"
   ]
  },
  {
   "cell_type": "code",
   "execution_count": 7,
   "id": "bca2b099",
   "metadata": {},
   "outputs": [
    {
     "name": "stdout",
     "output_type": "stream",
     "text": [
      "{0: 0, 1: 1, 2: 4, 3: 9, 4: 16, 5: 25, 6: 36, 7: 49, 8: 64, 9: 81, 10: 100}\n"
     ]
    }
   ],
   "source": [
    "chiffre = {}\n",
    "for a in range(11):\n",
    "    chiffre[a] = a*a\n",
    "print (chiffre)"
   ]
  },
  {
   "cell_type": "code",
   "execution_count": 1,
   "id": "6dbed2dd",
   "metadata": {},
   "outputs": [
    {
     "name": "stdout",
     "output_type": "stream",
     "text": [
      "ton mot test\n",
      "choisis l'index de la lettre à enlever 3\n",
      "es\n"
     ]
    }
   ],
   "source": [
    "def rmvchr(word, indx):\n",
    "\treturn word.replace(word[indx], '')\n",
    "a=input(\"ton mot \")\n",
    "b=input(\"choisis l'index de la lettre à enlever \")\n",
    "print(rmvchr(a, 0))\n"
   ]
  },
  {
   "cell_type": "code",
   "execution_count": 2,
   "id": "027121da",
   "metadata": {},
   "outputs": [
    {
     "name": "stdout",
     "output_type": "stream",
     "text": [
      "[[0, 1], [2, 3], [4, 5]]\n"
     ]
    }
   ],
   "source": [
    "import numpy as np\n",
    "arr = np.array([[0,1],[2,3],[4,5]])\n",
    "list = arr.tolist()\n",
    "print(list)\n"
   ]
  },
  {
   "cell_type": "code",
   "execution_count": 3,
   "id": "fe1410a2",
   "metadata": {},
   "outputs": [
    {
     "name": "stdout",
     "output_type": "stream",
     "text": [
      "[[ 1. -1.]\n",
      " [-1.  1.]]\n"
     ]
    }
   ],
   "source": [
    "import numpy as np\n",
    "array1= [1,2,3] \n",
    "array2=[3,2,1]\n",
    "list = np.cov(array1,array2)\n",
    "print(list)\n"
   ]
  },
  {
   "cell_type": "code",
   "execution_count": 1,
   "id": "0aa548ed",
   "metadata": {},
   "outputs": [
    {
     "name": "stdout",
     "output_type": "stream",
     "text": [
      "18\n",
      "22\n",
      "24\n"
     ]
    }
   ],
   "source": [
    "from math import sqrt\n",
    "Q =lambda x: int(sqrt((2*C *x)/H))\n",
    "C=50\n",
    "H=30\n",
    "D1=100\n",
    "D2=150\n",
    "D3=180\n",
    "print (Q(D1))\n",
    "print (Q(D2))\n",
    "print (Q(D3))\n",
    "\t\n"
   ]
  },
  {
   "cell_type": "code",
   "execution_count": null,
   "id": "04d6ed53",
   "metadata": {},
   "outputs": [],
   "source": []
  }
 ],
 "metadata": {
  "kernelspec": {
   "display_name": "Python 3",
   "language": "python",
   "name": "python3"
  },
  "language_info": {
   "codemirror_mode": {
    "name": "ipython",
    "version": 3
   },
   "file_extension": ".py",
   "mimetype": "text/x-python",
   "name": "python",
   "nbconvert_exporter": "python",
   "pygments_lexer": "ipython3",
   "version": "3.8.8"
  }
 },
 "nbformat": 4,
 "nbformat_minor": 5
}
